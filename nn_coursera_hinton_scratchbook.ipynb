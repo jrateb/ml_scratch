{
 "cells": [
  {
   "cell_type": "code",
   "execution_count": 1,
   "metadata": {
    "collapsed": true
   },
   "outputs": [],
   "source": [
    "%matplotlib inline"
   ]
  },
  {
   "cell_type": "code",
   "execution_count": 2,
   "metadata": {
    "collapsed": true
   },
   "outputs": [],
   "source": [
    "import numpy as np\n",
    "import matplotlib.pyplot as plt"
   ]
  },
  {
   "cell_type": "markdown",
   "metadata": {},
   "source": [
    "### Neuron functions and feasible weight vectors\n",
    "*Lectures 1+2, GH*"
   ]
  },
  {
   "cell_type": "markdown",
   "metadata": {},
   "source": [
    "**Linear neurons**\n",
    "\n",
    "$y=b+\\sum_ix_iw_i$"
   ]
  },
  {
   "cell_type": "code",
   "execution_count": 3,
   "metadata": {},
   "outputs": [
    {
     "name": "stdout",
     "output_type": "stream",
     "text": [
      "shape(x) is (100,) and shape(w) is (100,)\n",
      "23.9605263108 ()\n"
     ]
    }
   ],
   "source": [
    "def linear_neuron(x,w,b = 0):\n",
    "    \"\"\"\n",
    "    x = (m*1)\n",
    "    w = (m*1)\n",
    "    b = scalar\n",
    "    \"\"\"\n",
    "    assert (len(x.shape) ==1) & (len(w.shape) == 1) & (x.shape[0] == w.shape[0])\n",
    "    print(\"shape(x) is %s and shape(w) is %s\" %(str(x.shape),str(w.shape)))\n",
    "    y = b + np.dot(w.T,x)\n",
    "    return y\n",
    "\n",
    "x = np.random.rand(100,)\n",
    "w = np.random.rand(100,)\n",
    "y = linear_neuron(x,w)\n",
    "\n",
    "print(y, y.shape)"
   ]
  },
  {
   "cell_type": "code",
   "execution_count": 4,
   "metadata": {},
   "outputs": [
    {
     "name": "stdout",
     "output_type": "stream",
     "text": [
      "shape(x) is (100,) and shape(w) is (100,)\n",
      "z is 27.390\n",
      "y is 0.000\n"
     ]
    }
   ],
   "source": [
    "def binary_threshold_neuron(x,w,b = 0, theta = None):\n",
    "    \"\"\"\n",
    "    x = (m*1)\n",
    "    w = (m*1)\n",
    "    b = scalar\n",
    "    \"\"\"\n",
    "    assert (len(x.shape) ==1) & (len(w.shape) == 1) & (x.shape[0] == w.shape[0])\n",
    "    if theta == None: theta = -b\n",
    "    print(\"shape(x) is %s and shape(w) is %s\" %(str(x.shape),str(w.shape)))\n",
    "    z = b + np.dot(w.T,x)\n",
    "    print(\"z is %.3f\" % z)\n",
    "    y = 1 if (z >= theta) else 0\n",
    "    return y\n",
    "\n",
    "x = np.random.rand(100,)\n",
    "w = np.random.rand(100,)\n",
    "y = binary_threshold_neuron(x,w, b=1, theta = 60)\n",
    "\n",
    "print(\"y is %.3f\" % y)"
   ]
  },
  {
   "cell_type": "code",
   "execution_count": 5,
   "metadata": {},
   "outputs": [
    {
     "name": "stdout",
     "output_type": "stream",
     "text": [
      "shape(x) is (100,) and shape(w) is (100,)\n",
      "z is 0.021\n",
      "y is 0.5053624108087351185503167\n"
     ]
    }
   ],
   "source": [
    "def sigmoid_neuron(x,w,b = 0.):\n",
    "    \"\"\"\n",
    "    x = (m*1)\n",
    "    w = (m*1)\n",
    "    b = scalar\n",
    "    \"\"\"\n",
    "    assert (len(x.shape) ==1) & (len(w.shape) == 1) & (x.shape[0] == w.shape[0])\n",
    "    print(\"shape(x) is %s and shape(w) is %s\" %(str(x.shape),str(w.shape)))\n",
    "    z = b + np.dot(w.T,x)\n",
    "    print(\"z is %.3f\" % z)\n",
    "    y = 1. / (1. + np.exp(-z))\n",
    "    return y\n",
    "\n",
    "x = np.random.rand(100,)\n",
    "w = np.random.rand(100,) * np.full(100,.001) #make weights small scale\n",
    "y = sigmoid_neuron(x,w)\n",
    "\n",
    "print(\"y is %.25f\" % y)"
   ]
  },
  {
   "cell_type": "code",
   "execution_count": 6,
   "metadata": {},
   "outputs": [
    {
     "data": {
      "image/png": "[encoded data removed]",
      "text/plain": [
       "<matplotlib.figure.Figure at 0x4a63f28>"
      ]
     },
     "metadata": {},
     "output_type": "display_data"
    }
   ],
   "source": [
    "def plot_sigmoid():\n",
    "    z = np.arange(-10,10,.02)\n",
    "    y = 1. / (1. + np.exp(-z))\n",
    "    plt.plot(z,y)\n",
    "    plt.show()\n",
    "plot_sigmoid()"
   ]
  },
  {
   "cell_type": "markdown",
   "metadata": {},
   "source": [
    "**Angle between vectors**\n",
    "\n",
    "$A.B = |A|.|B|.cos(\\theta)$"
   ]
  },
  {
   "cell_type": "code",
   "execution_count": 8,
   "metadata": {},
   "outputs": [
    {
     "name": "stdout",
     "output_type": "stream",
     "text": [
      "(45.000000000000007, 5)\n",
      "(90.0, 0.0)\n",
      "(105.25511870305778, -0.59999999999999998)\n",
      "Multidimentional vectors [ 0.08918746  0.55170278  0.52871369  0.6970892   0.61680078] [ 0.64628073  0.22057903  0.26132799  0.23215712  0.64651639]\n",
      "(43.546934955657242, 0.87810792158916384)\n"
     ]
    }
   ],
   "source": [
    "def get_angle_dot_vectors(v1,v2):\n",
    "    \"\"\"\n",
    "    Returns the angle (in degrees) and dot product of 2 vectors\n",
    "    \"\"\"\n",
    "    dot_product = np.dot(v1,v2)\n",
    "    cos_theta = dot_product/(np.linalg.norm(v1)*np.linalg.norm(v2))\n",
    "    return np.degrees(np.arccos(cos_theta)), dot_product\n",
    "v1 = np.array([1,2])\n",
    "v2 = np.array([-1,3])\n",
    "print(get_angle_dot_vectors(v1,v2))\n",
    "v2 = np.array([-1,0.5]) #perpendicular\n",
    "print(get_angle_dot_vectors(v1,v2))\n",
    "v2 = np.array([-1,0.2]) #theta > 90\n",
    "print(get_angle_dot_vectors(v1,v2))\n",
    "\n",
    "#Multidimentional\n",
    "v1 = np.random.rand(5)\n",
    "v2 = np.random.rand(5)\n",
    "print(\"Multidimentional vectors\", v1, v2)\n",
    "print(get_angle_dot_vectors(v1,v2))"
   ]
  },
  {
   "cell_type": "markdown",
   "metadata": {
    "collapsed": true
   },
   "source": [
    "### Neuron unit derivatives\n",
    "*Lecture 3, GH*"
   ]
  },
  {
   "cell_type": "markdown",
   "metadata": {},
   "source": [
    "**Delta rule** for **linear** neuron\n",
    "\n",
    "$\\Delta w_i = -\\varepsilon x_i(t-y)$"
   ]
  },
  {
   "cell_type": "markdown",
   "metadata": {},
   "source": [
    "** Derivation **\n",
    "\n",
    "Assume we have $N$ training samples and $W$ weight parameters.\n",
    "\n",
    "Our training samples are a matrix $x$ with element $x_{n,i}$ representing the $i$-th input value (column) for the $n$-th sample (row). $t$ represents a $N$-long vector containing the truth outcomes, while $y$ is a similarly $N$-long vector with the predicted outcomes.\n",
    "\n",
    "Our total model error $E = \\frac {1}{2} \\sum_{n \\in N} (t_n - y_n)^2$ and individual sample error $E_n = \\frac {1}{2}(t_n - y_n)^2$.\n",
    "\n",
    "We want to get the error $E$ to approach zero, thus we differentiate the error formula w.r.t. all weight parameters $W$. Since the same weight vector $W$ applies to all training cases, and each training case will yield a different partial differential for $W$, we can't in one go zero the error of all training cases.\n",
    "\n",
    "Instead we differentiate $E$, the sum of all errors on each weight parameter and substract the partial derivatives from the weight in the hope of minimizing the total error. If we do this for enough iteratios, we are guaranteed to reach a solution if a feasible solution exists. Convergence proof at http://www.cs.columbia.edu/~mcollins/courses/6998-2012/notes/perc.converge.pdf"
   ]
  },
  {
   "cell_type": "markdown",
   "metadata": {},
   "source": [
    "Partial derivatives: For $i \\in W , \n",
    "\\frac{\\partial E}{\\partial w_i} = \\frac{1}{2} \\sum_{n \\in N} \\frac{\\partial y_n}{\\partial w_i} \n",
    "\\frac{dE_n}{dy_n}$ using chain rule\n",
    "\n",
    "Since $\\frac{\\partial y_n}{\\partial w_i} = x_{n,i}$, by definition of $y_n$, and $\\frac{dE_n}{dy_n} = (t_n - y_n)$ by applying the product rule to the definition of individual sample error.\n",
    "\n",
    "Thus $\\frac{\\partial E}{\\partial w_i} = x_{n,i}.(t_n - y_n)$"
   ]
  },
  {
   "cell_type": "markdown",
   "metadata": {},
   "source": [
    "To get $\\Delta w_i$, we use multiply the partial derivative $\\frac{\\partial E}{\\partial w_i}$ by both $-1$ and $\\varepsilon$. The $-1$ ensures that the new error value is less than the current one, while $\\varepsilon$, a positive real number, is called the *training rate*."
   ]
  },
  {
   "cell_type": "markdown",
   "metadata": {},
   "source": [
    "**How** does multiplying by $-1$ ensure error $E$ is decreasing? Courtsey of http://users.sussex.ac.uk/~khs20/mtcs/mtcs/tutorial2.html\n",
    "\n",
    "From definition of differentiation and for any $w$ weight vector and $x$ input vector, $\\frac{\\partial E}{\\partial w} \\approx \\frac{\\Delta E}{\\Delta w}$ for an infinitesimally small $\\Delta w = w - w_o$. Thus $\\frac{E-E_o}{w-w_o} \\approx (t-y).x$\n",
    "\n",
    "Assume $\\Delta w = -\\varepsilon.(t-y).x$, then $E-E_o = (\\varepsilon.(t-y).x).((t-y).x) = -\\varepsilon.(t-y)^2.x^2$, which is always negative. Thus, assuming a small value for $\\varepsilon$, adding the negative valued $\\Delta w$ to the current weights $w_o$, we will get the desired effect of lowering $E$."
   ]
  },
  {
   "cell_type": "markdown",
   "metadata": {},
   "source": [
    "**Why** we use the learning rate $\\varepsilon$, and how to set it? "
   ]
  },
  {
   "cell_type": "markdown",
   "metadata": {
    "collapsed": true
   },
   "source": [
    "Finally we conclude that, the **batch delta** rule is $\\Delta w_i = -\\varepsilon \\sum_{n \\in N}x_{n,i}.(t_n - y_n)$"
   ]
  },
  {
   "cell_type": "markdown",
   "metadata": {},
   "source": [
    "**Error surface of neuron**\n",
    "\n",
    "requires simulation data, tbd"
   ]
  },
  {
   "cell_type": "markdown",
   "metadata": {},
   "source": [
    "**Delta rule** for **logistic** neuron/unit\n",
    "\n",
    "For a logistic neuron where $y = \\frac{1}{1+e^{-z}}$ with $z = b+\\sum_i x_iw_i$\n",
    "\n",
    "$\\Delta w_i = -\\varepsilon x_i.y.(1-y).(t-y)$\n",
    "\n",
    "\n",
    "\n",
    "**Derivation**:\n",
    "\n",
    "$\\frac{\\partial E}{\\partial w_i} = \\sum_{n \\in N}\\frac{\\partial y_n}{\\partial w_i} \\frac{dE_n}{dy_n} = \\sum_{n \\in N}\\frac{\\partial z_n}{\\partial w_i} \\frac{dy_n}{dz_n} \\frac{dE_n}{dy_n}$ using chain rule."
   ]
  },
  {
   "cell_type": "markdown",
   "metadata": {},
   "source": [
    "We now work out all 3 components;\n",
    "\n",
    "- $\\frac{\\partial z_n}{\\partial w_i} = x_{n,i}$\n",
    "- $\\frac{dy_n}{dz_n} = y.(1-y)$, here is how;\n",
    "    - Since $y = (1+e^{-z})^{-1}$\n",
    "    - $\\frac{dy}{dz} = \\frac{-1.e^{-z}}{(1+e^{-z})^2}$, using power rule, $ = \\frac{1}{1+e^{-z}}.\\frac{e^{-z}}{1+e^{-z}} \\\\\n",
    "    = y.\\frac{(1+e^{-z})-1}{1+e^{-z}} \\\\\n",
    "    = y.\\frac{(1+e^{-z})}{1+e^{-z}}.\\frac{-1}{1+e^{-z}} \\\\\n",
    "    = y.(1-y)$\n",
    "- $\\frac{dE_n}{dy_n} = (t_n - y_n)$ by using the power rule\n",
    "\n",
    "Back to deriving our error function, $\\frac{\\partial E}{\\partial w_i} = x_{n,i}.y.(1 - y).(t_n - y_n)$ and for a batch weight correction, we use $\\Delta w_i = -\\varepsilon \\sum_{n \\in N}x_{n,i}.(t_n - y_n)$"
   ]
  },
  {
   "cell_type": "markdown",
   "metadata": {},
   "source": [
    "### Backpropagation error derivatives\n",
    "\n",
    "Assume the neural network has an output layer with $J$ neurons and hidden layer with $I$ neurons. The output value $y_i$, created by neuron $j$ activated by value $z_j$. $z_j$ is the *sigmoid* output of $I$ neurons layer with weights $w_{i,j}, i \\in I$. We also assume that the neuron $i$ is in the hidden layer where other neurons in layer $i$ feed into the neuron $j$ in a following layer. \n",
    "\n",
    "PUT PICTURE FROM SLIDE 28 of lec.3\n",
    "\n",
    "We want to figure out how fast the output error $E = \\frac{1}{2}\\sum_{j \\in J}(t_j - y_j)^2$ changes as we change the hidden weights $\\frac{\\partial E}{\\partial w_{i,j}}$, and how it changes in response to the output of the hidden neuron $\\frac{\\partial E}{\\partial y_i}$ . We will first work out the case for a single weight $w_{i,j}$, of the edge between the hidden neuroon $i$ and the subsequent neuron $j$, and its impact on $E$ through $y_j$."
   ]
  },
  {
   "cell_type": "markdown",
   "metadata": {},
   "source": [
    "Remember that $\\frac{\\partial z_j}{\\partial w_{i,j}} = y_i$ since $z_j = y_i.w_{i,j}$.\n",
    "\n",
    "$\\frac{\\partial E}{\\partial w_{i,j}}$ \n",
    "$= \\frac{\\partial z_j}{\\partial w_{i,j}}.\\frac{\\partial E}{\\partial z_j} \\\\\n",
    " = y_i.\\frac{\\partial y_j}{\\partial z_j}.\\frac{\\partial E}{\\partial y_j} \\\\\n",
    " = y_i.y_j.(1-y_j).(t_j - y_j)$\n",
    "\n",
    "$\\frac{\\partial E}{\\partial y_i}$\n",
    "$= \\sum_{j \\in J}\\frac{dz_j}{dy_i}.\\frac{\\partial E}{\\partial z_j} \\\\\n",
    " = \\sum_{j \\in J} w_{i,j}.\\frac{\\partial E}{\\partial z_j} \\\\\n",
    " = \\sum_{j \\in J} w_{i,j}.(y_j.(1-y_j).(t_j - y_j))$"
   ]
  },
  {
   "cell_type": "markdown",
   "metadata": {},
   "source": [
    "### Softmax and choice\n",
    "\n",
    "Softmax allows us to constrain the *logistic* outputs of a neural network to represent a probability distribution across discrete alternatives\n",
    "\n",
    "Assume $i$ is the index of the alternative we are calculating from a $J$ set of alternatives.\n",
    "Softmax is defined as $y_i = \\frac{e^{z_i}}{\\sum_{j \\in J} e^{z_j}}$, with derivative $\\frac{\\partial y_i}{\\partial z_i} = y_i(1 - y_i)$, and $\\frac{\\partial y_i}{\\partial z_j} = -y_i. y_j$ when $ i\\neq j$"
   ]
  },
  {
   "cell_type": "code",
   "execution_count": 12,
   "metadata": {},
   "outputs": [
    {
     "name": "stdout",
     "output_type": "stream",
     "text": [
      "shape(z) is (3,)\n",
      "[  9.99876603e-01   1.23394576e-04   2.06089928e-09]\n",
      "shape(z) is (3,)\n",
      "[ 0.64854841  0.26368011  0.08777148]\n",
      "shape(z) is (3,)\n",
      "[ nan  nan  nan]\n"
     ]
    },
    {
     "name": "stderr",
     "output_type": "stream",
     "text": [
      "C:\\Users\\jrateb\\AppData\\Local\\Continuum\\Anaconda3\\lib\\site-packages\\ipykernel_launcher.py:7: RuntimeWarning: overflow encountered in exp\n",
      "  import sys\n",
      "C:\\Users\\jrateb\\AppData\\Local\\Continuum\\Anaconda3\\lib\\site-packages\\ipykernel_launcher.py:8: RuntimeWarning: invalid value encountered in true_divide\n",
      "  \n"
     ]
    }
   ],
   "source": [
    "def softmax(z):\n",
    "    \"\"\"\n",
    "    z = (m*1)\n",
    "    \"\"\"\n",
    "    assert (len(z.shape) ==1)\n",
    "    print(\"shape(z) is %s\" %str(z.shape))\n",
    "    exp_z = np.exp(z.T)\n",
    "    y = exp_z / sum(exp_z)\n",
    "    return y\n",
    "\n",
    "print(softmax(np.array([10,1,-10])))\n",
    "print(softmax(np.array([1,.1,-1])))\n",
    "print(softmax(np.array([1000,2000,5000])))"
   ]
  },
  {
   "cell_type": "code",
   "execution_count": 14,
   "metadata": {},
   "outputs": [
    {
     "name": "stdout",
     "output_type": "stream",
     "text": [
      "shape(z) is (3,)\n",
      "[ 0.  0.  1.]\n"
     ]
    }
   ],
   "source": [
    "def softmax_shifted(z):\n",
    "    \"\"\"\n",
    "    z = (m*1)\n",
    "    \"\"\"\n",
    "    assert (len(z.shape) ==1)\n",
    "    print(\"shape(z) is %s\" %str(z.shape))\n",
    "    shifted_z = z - np.max(z)\n",
    "    exp_z = np.exp(shifted_z.T)\n",
    "    y = exp_z / sum(exp_z)\n",
    "    return y\n",
    "\n",
    "print(softmax_shifted(np.array([1000,2000,5000])))"
   ]
  },
  {
   "cell_type": "markdown",
   "metadata": {},
   "source": [
    "**Derivation** of softmax\n",
    "\n",
    "Credits to https://eli.thegreenplace.net/2016/the-softmax-function-and-its-derivative/\n",
    "\n",
    "$\\frac{\\partial y_i}{\\partial z_j} = \\frac{\\partial \\frac{e^{z_i}}{\\sum_{k \\in K} e^{z_k}}}{\\partial {z_j}}$ \n",
    "\n",
    "We will use the quotient rule: For $f(x) = \\frac{g(x)}{h(x)}, f'(x)= \\frac{g'(x)h(x) - h'(x)g(x)}{(h(x))^2}$, and set $g(x) = e^{z_i}$ and $h(x) = \\sum_{k \\in K} e^{z_k}$. We will also use the fact that $\\frac{d(e^x)}{dx} = e^x$\n",
    "\n",
    "Also, note that the derivative of $g_i$ w.r.t. $z_j$ is $e^{z_j}$ only if $i = j$, otherwise, the derivative is $0$.\n",
    "\n",
    "First, we will derive the case where $i = j$: \n",
    "\n",
    "$\\frac{\\partial y_i}{\\partial z_j} = \\frac{\\partial \\frac{e^{z_i}}{\\sum_{k \\in K} e^{z_k}}}{\\partial {z_j}}$ \n",
    "$ = \\frac{e^{z_i} \\sum_{k \\in K} e^{z_k} - e^{z_j} e^{z_i}}{{\\sum_{k \\in K} e^{z_k}}^2} \\\\\n",
    " = \\frac{e^{z_i}}{\\sum_{k \\in K} e^{z_k}} \\frac{\\sum_{k \\in K} e^{z_k} - e^{z_j}}{\\sum_{k \\in K} e^{z_k}} \\\\\n",
    " = y_i(1-y_j)$\n",
    " \n",
    "Finally, if $i \\neq j$:\n",
    "\n",
    "$\\frac{\\partial y_i}{\\partial z_j} = \\frac{\\partial \\frac{e^{z_i}}{\\sum_{k \\in K} e^{z_k}}}{\\partial {z_j}}$ \n",
    "$ = \\frac{0 - e^{z_j} e^{z_i}}{{\\sum_{k \\in K} e^{z_k}}^2} \\\\\n",
    " = - \\frac{e^{z_j}}{\\sum_{k \\in K} e^{z_k}} \\frac{e^{z_i}}{\\sum_{k \\in K} e^{z_k}} \\\\\n",
    " = - y_j y_i$"
   ]
  }
 ],
 "metadata": {
  "kernelspec": {
   "display_name": "Python 3",
   "language": "python",
   "name": "python3"
  },
  "language_info": {
   "codemirror_mode": {
    "name": "ipython",
    "version": 3
   },
   "file_extension": ".py",
   "mimetype": "text/x-python",
   "name": "python",
   "nbconvert_exporter": "python",
   "pygments_lexer": "ipython3",
   "version": "3.6.1"
  }
 },
 "nbformat": 4,
 "nbformat_minor": 2
}
