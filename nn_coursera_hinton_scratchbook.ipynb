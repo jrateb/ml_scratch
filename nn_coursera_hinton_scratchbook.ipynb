{
 "cells": [
  {
   "cell_type": "code",
   "execution_count": 1,
   "metadata": {
    "collapsed": true
   },
   "outputs": [],
   "source": [
    "%matplotlib inline"
   ]
  },
  {
   "cell_type": "code",
   "execution_count": 2,
   "metadata": {
    "collapsed": true
   },
   "outputs": [],
   "source": [
    "import numpy as np\n",
    "import matplotlib.pyplot as plt"
   ]
  },
  {
   "cell_type": "markdown",
   "metadata": {},
   "source": [
    "### Lectures 1+2"
   ]
  },
  {
   "cell_type": "markdown",
   "metadata": {},
   "source": [
    "**Linear neurons**\n",
    "\n",
    "$y=b+\\sum_ix_iw_i$"
   ]
  },
  {
   "cell_type": "code",
   "execution_count": 3,
   "metadata": {},
   "outputs": [
    {
     "name": "stdout",
     "output_type": "stream",
     "text": [
      "shape(x) is (100,) and shape(w) is (100,)\n",
      "25.3055298596 ()\n"
     ]
    }
   ],
   "source": [
    "def linear_neuron(x,w,b = 0):\n",
    "    \"\"\"\n",
    "    x = (m*1)\n",
    "    w = (m*1)\n",
    "    b = scalar\n",
    "    \"\"\"\n",
    "    assert (len(x.shape) ==1) & (len(w.shape) == 1) & (x.shape[0] == w.shape[0])\n",
    "    print(\"shape(x) is %s and shape(w) is %s\" %(str(x.shape),str(w.shape)))\n",
    "    y = b + np.dot(w.T,x)\n",
    "    return y\n",
    "\n",
    "x = np.random.rand(100,)\n",
    "w = np.random.rand(100,)\n",
    "y = linear_neuron(x,w)\n",
    "\n",
    "print(y, y.shape)"
   ]
  },
  {
   "cell_type": "code",
   "execution_count": 4,
   "metadata": {},
   "outputs": [
    {
     "name": "stdout",
     "output_type": "stream",
     "text": [
      "shape(x) is (100,) and shape(w) is (100,)\n",
      "z is 25.651\n",
      "y is 0.000\n"
     ]
    }
   ],
   "source": [
    "def binary_threshold_neuron(x,w,b = 0, theta = None):\n",
    "    \"\"\"\n",
    "    x = (m*1)\n",
    "    w = (m*1)\n",
    "    b = scalar\n",
    "    \"\"\"\n",
    "    assert (len(x.shape) ==1) & (len(w.shape) == 1) & (x.shape[0] == w.shape[0])\n",
    "    if theta == None: theta = -b\n",
    "    print(\"shape(x) is %s and shape(w) is %s\" %(str(x.shape),str(w.shape)))\n",
    "    z = b + np.dot(w.T,x)\n",
    "    print(\"z is %.3f\" % z)\n",
    "    y = 1 if (z >= theta) else 0\n",
    "    return y\n",
    "\n",
    "x = np.random.rand(100,)\n",
    "w = np.random.rand(100,)\n",
    "y = binary_threshold_neuron(x,w, b=1, theta = 60)\n",
    "\n",
    "print(\"y is %.3f\" % y)"
   ]
  },
  {
   "cell_type": "code",
   "execution_count": 39,
   "metadata": {},
   "outputs": [
    {
     "name": "stdout",
     "output_type": "stream",
     "text": [
      "shape(x) is (100,) and shape(w) is (100,)\n",
      "z is 0.026\n",
      "y is 0.5063841208407469096641762\n"
     ]
    }
   ],
   "source": [
    "def sigmoid_neuron(x,w,b = 0.):\n",
    "    \"\"\"\n",
    "    x = (m*1)\n",
    "    w = (m*1)\n",
    "    b = scalar\n",
    "    \"\"\"\n",
    "    assert (len(x.shape) ==1) & (len(w.shape) == 1) & (x.shape[0] == w.shape[0])\n",
    "    print(\"shape(x) is %s and shape(w) is %s\" %(str(x.shape),str(w.shape)))\n",
    "    z = b + np.dot(w.T,x)\n",
    "    print(\"z is %.3f\" % z)\n",
    "    y = 1. / (1. + np.exp(-z))\n",
    "    return y\n",
    "\n",
    "x = np.random.rand(100,)\n",
    "w = np.random.rand(100,) * np.full(100,.001) #make weights small scale\n",
    "y = sigmoid_neuron(x,w)\n",
    "\n",
    "print(\"y is %.25f\" % y)"
   ]
  },
  {
   "cell_type": "code",
   "execution_count": 46,
   "metadata": {},
   "outputs": [
    {
     "data": {
      "image/png": "[encoded data removed]",
      "text/plain": [
       "<matplotlib.figure.Figure at 0x843cac8>"
      ]
     },
     "metadata": {},
     "output_type": "display_data"
    }
   ],
   "source": [
    "def plot_sigmoid():\n",
    "    z = np.arange(-10,10,.02)\n",
    "    y = 1. / (1. + np.exp(-z))\n",
    "    plt.plot(z,y)\n",
    "    plt.show()\n",
    "plot_sigmoid()"
   ]
  },
  {
   "cell_type": "markdown",
   "metadata": {},
   "source": [
    "**Angle between vectors**\n",
    "\n",
    "$A.B = |A|.|B|.cos(\\theta)$"
   ]
  },
  {
   "cell_type": "code",
   "execution_count": 63,
   "metadata": {},
   "outputs": [
    {
     "name": "stdout",
     "output_type": "stream",
     "text": [
      "(45.000000000000007, 5)\n",
      "(90.0, 0.0)\n",
      "(105.25511870305778, -0.59999999999999998)\n",
      "Multidimentional vectors [ 0.4933704   0.42779018  0.33321147  0.6816322   0.95980062] [ 0.90039248  0.34193319  0.62649577  0.90058925  0.27429217]\n",
      "(35.532526599242992, 1.6763946625219732)\n"
     ]
    }
   ],
   "source": [
    "(def get_angle_dot_vectors(v1,v2):\n",
    "    \"\"\"\n",
    "    Returns the angle (in degrees) and dot product of 2 vectors\n",
    "    \"\"\"\n",
    "    dot_product = np.dot(v1,v2)\n",
    "    cos_theta = dot_product/(np.linalg.norm(v1)*np.linalg.norm(v2))\n",
    "    return np.degrees(np.arccos(cos_theta)), dot_product\n",
    "v1 = np.array([1,2])\n",
    "v2 = np.array([-1,3])\n",
    "print(get_angle_dot_vectors(v1,v2))\n",
    "v2 = np.array([-1,0.5]) #perpendicular\n",
    "print(get_angle_dot_vectors(v1,v2))\n",
    "v2 = np.array([-1,0.2]) #theta > 90\n",
    "print(get_angle_dot_vectors(v1,v2))\n",
    "\n",
    "#Multidimentional\n",
    "v1 = np.random.rand(5)\n",
    "v2 = np.random.rand(5)\n",
    "print(\"Multidimentional vectors\", v1, v2))\n",
    "print(get_angle_dot_vectors(v1,v2))"
   ]
  },
  {
   "cell_type": "markdown",
   "metadata": {
    "collapsed": true
   },
   "source": [
    "### Lecture 3"
   ]
  },
  {
   "cell_type": "markdown",
   "metadata": {},
   "source": [
    "**Delta rule**\n",
    "\n",
    "$\\Delta w_i = -\\varepsilon x_i(t-y)$"
   ]
  },
  {
   "cell_type": "markdown",
   "metadata": {},
   "source": [
    "** Derivation **\n",
    "\n",
    "Assume we have $N$ training samples and $W$ weight parameters.\n",
    "\n",
    "Our training samples are a matrix $x$ with element $x_{n,i}$ representing the $i$-th input value (column) for the $n$-th sample (row). $t$ represents a $N$-long vector containing the truth outcomes, while $y$ is a similarly $N$-long vector with the predicted outcomes.\n",
    "\n",
    "Our total model error $E = \\frac {1}{2} \\sum_{n \\in N} (t_n - y_n)^2$ and individual sample error $E_n = \\frac {1}{2}(t_n - y_n)^2$.\n",
    "\n",
    "We want to get the error $E$ to approach zero, thus we differentiate the error formula w.r.t. all weight parameters $W$. Since the same weight vector $W$ applies to all training cases, and each training case will yield a different partial differential for $W$, we can't in one go zero the error of all training cases.\n",
    "\n",
    "Instead we differentiate $E$, the sum of all errors on each weight parameter and substract the partial derivatives from the weight in the hope of minimizing the total error. If we do this for enough iteratios, we are guaranteed to reach a solution if a feasible solution exists. Convergence proof at http://www.cs.columbia.edu/~mcollins/courses/6998-2012/notes/perc.converge.pdf"
   ]
  },
  {
   "cell_type": "markdown",
   "metadata": {},
   "source": [
    "Partial derivatives: For $i \\in W , \n",
    "\\frac{\\partial E}{\\partial w_i} = \\frac{1}{2} \\sum{n \\in N} \\frac{\\partial y_n}{\\partial w_i} \n",
    "\\frac{dE_n}{dy_n}$ using chain rule\n",
    "\n",
    "Since $\\frac{\\partial y_n}{\\partial w_i} = x_{n,i}$, by definition of $y_n$, and $\\frac{dE_n}{dy_n} = (t_n - y_n)$ by applying the product rule to the definition of individual sample error.\n",
    "\n",
    "Thus $\\frac{\\partial E}{\\partial w_i} = x_{n,i}.(t_n - y_n)$"
   ]
  },
  {
   "cell_type": "markdown",
   "metadata": {},
   "source": [
    "To get $\\Delta w_i$, we use multiply the partial derivative $\\frac{\\partial E}{\\partial w_i}$ by both $-1$ and $\\varepsilon$. The $-1$ ensures that the new error value is less than the current one, while $\\varepsilon$, a positive real number, is called the *training rate*."
   ]
  },
  {
   "cell_type": "markdown",
   "metadata": {},
   "source": [
    "**How** does multiplying by $-1$ ensure error $E$ is decreasing?\n",
    "\n",
    "From definition of differentiation and for any $w$ weight vector and $x$ input vector, $\\frac{\\partial E}{\\partial w} \\approx \\frac{\\Delta E}{\\Delta w}$ for an infinitesimally small $\\Delta w = w - w_o$. Thus $\\frac{E-E_o}{w-w_o} \\approx (t-y).x$\n",
    "\n",
    "Assume $\\Delta w = -\\varepsilon.(t-y).x$, then $E-E_o = (\\varepsilon.(t-y).x).((t-y).x) = -\\varepsilon.(t-y)^2.x^2$, which is always negative. Thus, assuming a small value for $\\varepsilon$, adding the negative valued $\\Delta w$ to the current weights $w_o$, we will get the desired effect of lowering $E$."
   ]
  },
  {
   "cell_type": "markdown",
   "metadata": {},
   "source": [
    "**Why** we use the learning rate $\\varepsilon$, and how to set it? "
   ]
  }
 ],
 "metadata": {
  "kernelspec": {
   "display_name": "Python 3",
   "language": "python",
   "name": "python3"
  },
  "language_info": {
   "codemirror_mode": {
    "name": "ipython",
    "version": 3
   },
   "file_extension": ".py",
   "mimetype": "text/x-python",
   "name": "python",
   "nbconvert_exporter": "python",
   "pygments_lexer": "ipython3",
   "version": "3.6.1"
  }
 },
 "nbformat": 4,
 "nbformat_minor": 2
}
